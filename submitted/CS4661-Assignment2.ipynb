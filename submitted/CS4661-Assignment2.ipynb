{
 "cells": [
  {
   "cell_type": "markdown",
   "id": "0c4184e1",
   "metadata": {},
   "source": [
    "# Section A"
   ]
  },
  {
   "cell_type": "code",
   "execution_count": 1,
   "id": "e40732a6",
   "metadata": {},
   "outputs": [],
   "source": [
    "import numpy as np\n",
    "import pandas as pd\n",
    "from sklearn.neighbors import KNeighborsClassifier\n",
    "from sklearn.model_selection import train_test_split\n",
    "from sklearn.metrics import accuracy_score"
   ]
  },
  {
   "cell_type": "code",
   "execution_count": 2,
   "id": "58ec8120",
   "metadata": {},
   "outputs": [],
   "source": [
    "df = pd.read_csv('https://github.com/mpourhoma/CS4661/raw/master/iris.csv')\n"
   ]
  },
  {
   "cell_type": "markdown",
   "id": "bd0cb825",
   "metadata": {},
   "source": [
    "# Section B"
   ]
  },
  {
   "cell_type": "markdown",
   "id": "7eacb281",
   "metadata": {},
   "source": [
    "### Selecting feature data from list"
   ]
  },
  {
   "cell_type": "code",
   "execution_count": 3,
   "id": "ab9d01c6",
   "metadata": {},
   "outputs": [],
   "source": [
    "feature_cols = ['sepal_length','sepal_width','petal_length','petal_width']\n",
    "\n",
    "X = df[feature_cols] "
   ]
  },
  {
   "cell_type": "markdown",
   "id": "ea8f05db",
   "metadata": {},
   "source": [
    "### Select labels"
   ]
  },
  {
   "cell_type": "code",
   "execution_count": 4,
   "id": "105b2176",
   "metadata": {},
   "outputs": [],
   "source": [
    "y = df['species']"
   ]
  },
  {
   "cell_type": "markdown",
   "id": "dffa85ec",
   "metadata": {},
   "source": [
    "### Create split with test state of 0.3 and random state of 6"
   ]
  },
  {
   "cell_type": "code",
   "execution_count": 5,
   "id": "afbbe8b7",
   "metadata": {},
   "outputs": [],
   "source": [
    "X_train, X_test, y_train, y_test = train_test_split(X, y, test_size=0.3, random_state=6)"
   ]
  },
  {
   "cell_type": "markdown",
   "id": "31e3481d",
   "metadata": {},
   "source": [
    "# Section C"
   ]
  },
  {
   "cell_type": "markdown",
   "id": "8d402e24",
   "metadata": {},
   "source": []
  },
  {
   "cell_type": "markdown",
   "id": "70f54ca0",
   "metadata": {},
   "source": [
    "### Create KNN object and train training data only"
   ]
  },
  {
   "cell_type": "code",
   "execution_count": 6,
   "id": "b29c34b8",
   "metadata": {},
   "outputs": [
    {
     "data": {
      "text/plain": [
       "KNeighborsClassifier(n_neighbors=3)"
      ]
     },
     "execution_count": 6,
     "metadata": {},
     "output_type": "execute_result"
    }
   ],
   "source": [
    "k = 3\n",
    "flwr_knn = KNeighborsClassifier(n_neighbors=k)\n",
    "\n",
    "flwr_knn.fit(X_train, y_train)"
   ]
  },
  {
   "cell_type": "markdown",
   "id": "6f7a98a4",
   "metadata": {},
   "source": [
    "### Testing on the testing set"
   ]
  },
  {
   "cell_type": "code",
   "execution_count": null,
   "id": "f696a7f5",
   "metadata": {},
   "outputs": [
    {
     "ename": "",
     "evalue": "",
     "output_type": "error",
     "traceback": [
      "\u001b[1;31mRunning cells with 'Python 3.10.4 64-bit' requires ipykernel package.\n",
      "\u001b[1;31mRun the following command to install 'ipykernel' into the Python environment. \n",
      "\u001b[1;31mCommand: 'c:/Users/Charlie/AppData/Local/Programs/Python/Python310/python.exe -m pip install ipykernel -U --user --force-reinstall'"
     ]
    }
   ],
   "source": [
    "y_predict = flwr_knn.predict(X_test)"
   ]
  },
  {
   "cell_type": "markdown",
   "id": "af238594",
   "metadata": {},
   "source": [
    "### Calculate accuracy"
   ]
  },
  {
   "cell_type": "code",
   "execution_count": 8,
   "id": "8223b3b7",
   "metadata": {},
   "outputs": [
    {
     "name": "stdout",
     "output_type": "stream",
     "text": [
      "0.9555555555555556\n"
     ]
    }
   ],
   "source": [
    "accuracy = accuracy_score(y_test, y_predict)\n",
    "\n",
    "print(accuracy)"
   ]
  },
  {
   "cell_type": "markdown",
   "id": "3d59ba10",
   "metadata": {},
   "source": [
    "# Section D"
   ]
  },
  {
   "cell_type": "markdown",
   "id": "80df448f",
   "metadata": {},
   "source": [
    "### Train and predict with KNN = 1"
   ]
  },
  {
   "cell_type": "code",
   "execution_count": 9,
   "id": "ac17beb1",
   "metadata": {},
   "outputs": [
    {
     "name": "stdout",
     "output_type": "stream",
     "text": [
      "0.9333333333333333\n"
     ]
    }
   ],
   "source": [
    "k = 1\n",
    "flwr_knn = KNeighborsClassifier(n_neighbors=k)\n",
    "\n",
    "flwr_knn.fit(X_train, y_train)\n",
    "\n",
    "y_predict = flwr_knn.predict(X_test)\n",
    "\n",
    "accuracy = accuracy_score(y_test, y_predict)\n",
    "\n",
    "print(accuracy)"
   ]
  },
  {
   "cell_type": "markdown",
   "id": "4e1f9181",
   "metadata": {},
   "source": [
    "### Train and predict with KNN = 5"
   ]
  },
  {
   "cell_type": "code",
   "execution_count": 10,
   "id": "6ee1c800",
   "metadata": {},
   "outputs": [
    {
     "name": "stdout",
     "output_type": "stream",
     "text": [
      "0.9777777777777777\n"
     ]
    }
   ],
   "source": [
    "k = 5\n",
    "flwr_knn = KNeighborsClassifier(n_neighbors=k)\n",
    "\n",
    "flwr_knn.fit(X_train, y_train)\n",
    "\n",
    "y_predict = flwr_knn.predict(X_test)\n",
    "\n",
    "accuracy = accuracy_score(y_test, y_predict)\n",
    "\n",
    "print(accuracy)"
   ]
  },
  {
   "cell_type": "markdown",
   "id": "258c88e9",
   "metadata": {},
   "source": [
    "### Train and predict with KNN = 7"
   ]
  },
  {
   "cell_type": "code",
   "execution_count": 11,
   "id": "dbb28481",
   "metadata": {},
   "outputs": [
    {
     "name": "stdout",
     "output_type": "stream",
     "text": [
      "0.9555555555555556\n"
     ]
    }
   ],
   "source": [
    "k = 7\n",
    "flwr_knn = KNeighborsClassifier(n_neighbors=k)\n",
    "\n",
    "flwr_knn.fit(X_train, y_train)\n",
    "\n",
    "y_predict = flwr_knn.predict(X_test)\n",
    "\n",
    "accuracy = accuracy_score(y_test, y_predict)\n",
    "\n",
    "print(accuracy)"
   ]
  },
  {
   "cell_type": "markdown",
   "id": "e5e0cc0e",
   "metadata": {},
   "source": [
    "### Train and predict with KNN = 11"
   ]
  },
  {
   "cell_type": "code",
   "execution_count": 12,
   "id": "46d4eae8",
   "metadata": {},
   "outputs": [
    {
     "name": "stdout",
     "output_type": "stream",
     "text": [
      "0.9555555555555556\n"
     ]
    }
   ],
   "source": [
    "k = 11\n",
    "flwr_knn = KNeighborsClassifier(n_neighbors=k)\n",
    "\n",
    "flwr_knn.fit(X_train, y_train)\n",
    "\n",
    "y_predict = flwr_knn.predict(X_test)\n",
    "\n",
    "accuracy = accuracy_score(y_test, y_predict)\n",
    "\n",
    "print(accuracy)"
   ]
  },
  {
   "cell_type": "markdown",
   "id": "8aa6ba89",
   "metadata": {},
   "source": [
    "### Train and predict with KNN = 15"
   ]
  },
  {
   "cell_type": "code",
   "execution_count": 13,
   "id": "f6ce397e",
   "metadata": {},
   "outputs": [
    {
     "name": "stdout",
     "output_type": "stream",
     "text": [
      "0.9777777777777777\n"
     ]
    }
   ],
   "source": [
    "k = 15\n",
    "flwr_knn = KNeighborsClassifier(n_neighbors=k)\n",
    "\n",
    "flwr_knn.fit(X_train, y_train)\n",
    "\n",
    "y_predict = flwr_knn.predict(X_test)\n",
    "\n",
    "accuracy = accuracy_score(y_test, y_predict)\n",
    "\n",
    "print(accuracy)"
   ]
  },
  {
   "cell_type": "markdown",
   "id": "1c63e8ec",
   "metadata": {},
   "source": [
    "### Train and predict with KNN = 27"
   ]
  },
  {
   "cell_type": "code",
   "execution_count": 14,
   "id": "213de420",
   "metadata": {},
   "outputs": [
    {
     "name": "stdout",
     "output_type": "stream",
     "text": [
      "0.9111111111111111\n"
     ]
    }
   ],
   "source": [
    "k = 27\n",
    "flwr_knn = KNeighborsClassifier(n_neighbors=k)\n",
    "\n",
    "flwr_knn.fit(X_train, y_train)\n",
    "\n",
    "y_predict = flwr_knn.predict(X_test)\n",
    "\n",
    "accuracy = accuracy_score(y_test, y_predict)\n",
    "\n",
    "print(accuracy)"
   ]
  },
  {
   "cell_type": "markdown",
   "id": "8a2f8f03",
   "metadata": {},
   "source": [
    "### Train and predict with KNN = 59"
   ]
  },
  {
   "cell_type": "code",
   "execution_count": 15,
   "id": "ba49d974",
   "metadata": {},
   "outputs": [
    {
     "name": "stdout",
     "output_type": "stream",
     "text": [
      "0.8888888888888888\n"
     ]
    }
   ],
   "source": [
    "k = 59\n",
    "flwr_knn = KNeighborsClassifier(n_neighbors=k)\n",
    "\n",
    "flwr_knn.fit(X_train, y_train)\n",
    "\n",
    "y_predict = flwr_knn.predict(X_test)\n",
    "\n",
    "accuracy = accuracy_score(y_test, y_predict)\n",
    "\n",
    "print(accuracy)"
   ]
  },
  {
   "cell_type": "markdown",
   "id": "8bf17cc2",
   "metadata": {},
   "source": [
    "### KNN decreased with all except for KNN 5 and 15 both  = 0.97"
   ]
  },
  {
   "cell_type": "markdown",
   "id": "e63515ec",
   "metadata": {},
   "source": [
    "# Section E"
   ]
  },
  {
   "cell_type": "markdown",
   "id": "9db02e4d",
   "metadata": {},
   "source": [
    "### Test only sepal_length"
   ]
  },
  {
   "cell_type": "code",
   "execution_count": 32,
   "id": "d5be4c1d",
   "metadata": {},
   "outputs": [
    {
     "name": "stdout",
     "output_type": "stream",
     "text": [
      "0.7111111111111111\n"
     ]
    }
   ],
   "source": [
    "k = 3\n",
    "flwr_knn = KNeighborsClassifier(n_neighbors=k)\n",
    "flwr_knn.fit(X_train[['sepal_length']], y_train)\n",
    "\n",
    "y_predict = flwr_knn.predict(X_test[['sepal_length']])\n",
    "\n",
    "accuracy = accuracy_score(y_test, y_predict)\n",
    "print(accuracy)"
   ]
  },
  {
   "cell_type": "markdown",
   "id": "033ae99a",
   "metadata": {},
   "source": [
    "### Test only sepal_width"
   ]
  },
  {
   "cell_type": "code",
   "execution_count": 20,
   "id": "cf3dcf6b",
   "metadata": {},
   "outputs": [
    {
     "name": "stdout",
     "output_type": "stream",
     "text": [
      "0.4888888888888889\n"
     ]
    }
   ],
   "source": [
    "k = 3\n",
    "flwr_knn = KNeighborsClassifier(n_neighbors=k)\n",
    "flwr_knn.fit(X_train[['sepal_width']], y_train)\n",
    "\n",
    "y_predict = flwr_knn.predict(X_test[['sepal_width']])\n",
    "\n",
    "accuracy = accuracy_score(y_test, y_predict)\n",
    "print(accuracy)"
   ]
  },
  {
   "cell_type": "markdown",
   "id": "498d3de5",
   "metadata": {},
   "source": [
    "### Test only petal_length"
   ]
  },
  {
   "cell_type": "code",
   "execution_count": 22,
   "id": "f0ac1557",
   "metadata": {},
   "outputs": [
    {
     "name": "stdout",
     "output_type": "stream",
     "text": [
      "0.9777777777777777\n"
     ]
    }
   ],
   "source": [
    "k = 3\n",
    "flwr_knn = KNeighborsClassifier(n_neighbors=k)\n",
    "flwr_knn.fit(X_train[['petal_length']], y_train)\n",
    "\n",
    "y_predict = flwr_knn.predict(X_test[['petal_length']])\n",
    "\n",
    "accuracy = accuracy_score(y_test, y_predict)\n",
    "print(accuracy)"
   ]
  },
  {
   "cell_type": "markdown",
   "id": "2d69bd96",
   "metadata": {},
   "source": [
    "### Test only petal_width"
   ]
  },
  {
   "cell_type": "code",
   "execution_count": 25,
   "id": "c8fa8c58",
   "metadata": {},
   "outputs": [
    {
     "name": "stdout",
     "output_type": "stream",
     "text": [
      "0.9333333333333333\n"
     ]
    }
   ],
   "source": [
    "k = 3\n",
    "flwr_knn = KNeighborsClassifier(n_neighbors=k)\n",
    "flwr_knn.fit(X_train[['petal_width']], y_train)\n",
    "\n",
    "y_predict = flwr_knn.predict(X_test[['petal_width']])\n",
    "\n",
    "accuracy = accuracy_score(y_test, y_predict)\n",
    "print(accuracy)"
   ]
  },
  {
   "cell_type": "markdown",
   "id": "d5ecacee",
   "metadata": {},
   "source": [
    "### Petal length has the best accuracy at 0.97 followed by with petal width at 0.93"
   ]
  },
  {
   "cell_type": "markdown",
   "id": "81f64428",
   "metadata": {},
   "source": [
    "# Section F"
   ]
  },
  {
   "cell_type": "markdown",
   "id": "9b82343c",
   "metadata": {},
   "source": [
    "### Test only sepal_length and sepal_width"
   ]
  },
  {
   "cell_type": "code",
   "execution_count": 26,
   "id": "a0141658",
   "metadata": {},
   "outputs": [
    {
     "name": "stdout",
     "output_type": "stream",
     "text": [
      "0.7777777777777778\n"
     ]
    }
   ],
   "source": [
    "k = 3\n",
    "flwr_knn = KNeighborsClassifier(n_neighbors=k)\n",
    "flwr_knn.fit(X_train[['sepal_length','sepal_width']], y_train)\n",
    "\n",
    "y_predict = flwr_knn.predict(X_test[['sepal_length','sepal_width']])\n",
    "\n",
    "accuracy = accuracy_score(y_test, y_predict)\n",
    "print(accuracy)"
   ]
  },
  {
   "cell_type": "markdown",
   "id": "8041611f",
   "metadata": {},
   "source": [
    "### Test only sepal_length and petal_length"
   ]
  },
  {
   "cell_type": "code",
   "execution_count": 27,
   "id": "377549d1",
   "metadata": {},
   "outputs": [
    {
     "name": "stdout",
     "output_type": "stream",
     "text": [
      "0.9777777777777777\n"
     ]
    }
   ],
   "source": [
    "k = 3\n",
    "flwr_knn = KNeighborsClassifier(n_neighbors=k)\n",
    "flwr_knn.fit(X_train[['sepal_length','petal_length']], y_train)\n",
    "\n",
    "y_predict = flwr_knn.predict(X_test[['sepal_length','petal_length']])\n",
    "\n",
    "accuracy = accuracy_score(y_test, y_predict)\n",
    "print(accuracy)"
   ]
  },
  {
   "cell_type": "markdown",
   "id": "862775e6",
   "metadata": {},
   "source": [
    "### Test only sepal_length and petal_width"
   ]
  },
  {
   "cell_type": "code",
   "execution_count": 28,
   "id": "92e06593",
   "metadata": {},
   "outputs": [
    {
     "name": "stdout",
     "output_type": "stream",
     "text": [
      "0.9333333333333333\n"
     ]
    }
   ],
   "source": [
    "k = 3\n",
    "flwr_knn = KNeighborsClassifier(n_neighbors=k)\n",
    "flwr_knn.fit(X_train[['sepal_length','petal_width']], y_train)\n",
    "\n",
    "y_predict = flwr_knn.predict(X_test[['sepal_length','petal_width']])\n",
    "\n",
    "accuracy = accuracy_score(y_test, y_predict)\n",
    "print(accuracy)"
   ]
  },
  {
   "cell_type": "markdown",
   "id": "7c61607b",
   "metadata": {},
   "source": [
    "### Test only sepal_width and petal_length"
   ]
  },
  {
   "cell_type": "code",
   "execution_count": 29,
   "id": "ca1307cc",
   "metadata": {},
   "outputs": [
    {
     "name": "stdout",
     "output_type": "stream",
     "text": [
      "0.9555555555555556\n"
     ]
    }
   ],
   "source": [
    "k = 3\n",
    "flwr_knn = KNeighborsClassifier(n_neighbors=k)\n",
    "flwr_knn.fit(X_train[['sepal_width','petal_length']], y_train)\n",
    "\n",
    "y_predict = flwr_knn.predict(X_test[['sepal_width','petal_length']])\n",
    "\n",
    "accuracy = accuracy_score(y_test, y_predict)\n",
    "print(accuracy)"
   ]
  },
  {
   "cell_type": "markdown",
   "id": "d4c0014e",
   "metadata": {},
   "source": [
    "### Test only sepal_width and petal_width"
   ]
  },
  {
   "cell_type": "code",
   "execution_count": 30,
   "id": "7cec858d",
   "metadata": {},
   "outputs": [
    {
     "name": "stdout",
     "output_type": "stream",
     "text": [
      "0.9333333333333333\n"
     ]
    }
   ],
   "source": [
    "k = 3\n",
    "flwr_knn = KNeighborsClassifier(n_neighbors=k)\n",
    "flwr_knn.fit(X_train[['sepal_width','petal_width']], y_train)\n",
    "\n",
    "y_predict = flwr_knn.predict(X_test[['sepal_width','petal_width']])\n",
    "\n",
    "accuracy = accuracy_score(y_test, y_predict)\n",
    "print(accuracy)"
   ]
  },
  {
   "cell_type": "markdown",
   "id": "572bef16",
   "metadata": {},
   "source": [
    "### Test only petal_length and petal_width"
   ]
  },
  {
   "cell_type": "code",
   "execution_count": 31,
   "id": "cfffbc81",
   "metadata": {},
   "outputs": [
    {
     "name": "stdout",
     "output_type": "stream",
     "text": [
      "0.9555555555555556\n"
     ]
    }
   ],
   "source": [
    "k = 3\n",
    "flwr_knn = KNeighborsClassifier(n_neighbors=k)\n",
    "flwr_knn.fit(X_train[['petal_length','petal_width']], y_train)\n",
    "\n",
    "y_predict = flwr_knn.predict(X_test[['petal_length','petal_width']])\n",
    "\n",
    "accuracy = accuracy_score(y_test, y_predict)\n",
    "print(accuracy)"
   ]
  },
  {
   "cell_type": "markdown",
   "id": "1920d442",
   "metadata": {},
   "source": [
    "### sepal_length and petal_length is the most accurate pair"
   ]
  },
  {
   "cell_type": "markdown",
   "id": "ed39d2ec",
   "metadata": {},
   "source": [
    "### Sepal length wasnt the top two most accurate, but still above 0.9 so it helps to make the pair the most accurate"
   ]
  },
  {
   "cell_type": "code",
   "execution_count": null,
   "id": "39baea78",
   "metadata": {},
   "outputs": [],
   "source": []
  }
 ],
 "metadata": {
  "kernelspec": {
   "display_name": "Python 3.9.12 ('base')",
   "language": "python",
   "name": "python3"
  },
  "language_info": {
   "codemirror_mode": {
    "name": "ipython",
    "version": 3
   },
   "file_extension": ".py",
   "mimetype": "text/x-python",
   "name": "python",
   "nbconvert_exporter": "python",
   "pygments_lexer": "ipython3",
   "version": "3.9.12"
  },
  "vscode": {
   "interpreter": {
    "hash": "9059f11ac99c194f89cc17041102fce3d3d7309992fe071b2d99a87d386ba993"
   }
  }
 },
 "nbformat": 4,
 "nbformat_minor": 5
}
