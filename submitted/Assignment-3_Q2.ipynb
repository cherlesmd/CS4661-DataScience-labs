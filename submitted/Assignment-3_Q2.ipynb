{
 "cells": [
  {
   "cell_type": "code",
   "execution_count": 31,
   "metadata": {},
   "outputs": [],
   "source": [
    "import numpy as np\n",
    "import pandas as pd\n",
    "\n",
    "from sklearn.model_selection import train_test_split\n",
    "from sklearn import preprocessing\n",
    "from sklearn.linear_model import LinearRegression\n",
    "from sklearn import metrics\n",
    "from sklearn.model_selection import cross_val_score"
   ]
  },
  {
   "cell_type": "markdown",
   "metadata": {},
   "source": [
    "# Question2: Debt Prediction"
   ]
  },
  {
   "cell_type": "code",
   "execution_count": 17,
   "metadata": {},
   "outputs": [],
   "source": [
    "df  = pd.read_csv(\"https://github.com/mpourhoma/CS4661/raw/master/Credit.csv\")"
   ]
  },
  {
   "cell_type": "code",
   "execution_count": 18,
   "metadata": {},
   "outputs": [
    {
     "name": "stdout",
     "output_type": "stream",
     "text": [
      "(400, 7)\n",
      "<bound method NDFrame.head of       Income  Limit  Rating  Cards  Age  Education  Married\n",
      "0     14.891   3606     283      2   34         11        1\n",
      "1    106.025   6645     483      3   82         15        1\n",
      "2    104.593   7075     514      4   71         11        0\n",
      "3    148.924   9504     681      3   36         11        0\n",
      "4     55.882   4897     357      2   68         16        1\n",
      "..       ...    ...     ...    ...  ...        ...      ...\n",
      "395   12.096   4100     307      3   32         13        1\n",
      "396   13.364   3838     296      5   65         17        0\n",
      "397   57.872   4171     321      5   67         12        1\n",
      "398   37.728   2525     192      1   44         13        1\n",
      "399   18.701   5524     415      5   64          7        0\n",
      "\n",
      "[400 rows x 7 columns]>\n",
      "(400,)\n"
     ]
    }
   ],
   "source": [
    "feature_cols = ['Income','Limit','Rating','Cards','Age','Education','Married']\n",
    "\n",
    "X = df[feature_cols] \n",
    "print(X.shape)\n",
    "print(X.head)\n",
    "\n",
    "y = df['Balance']\n",
    "print(y.shape)"
   ]
  },
  {
   "cell_type": "code",
   "execution_count": 22,
   "metadata": {},
   "outputs": [],
   "source": [
    "\n",
    "X = preprocessing.scale(X)"
   ]
  },
  {
   "cell_type": "code",
   "execution_count": 23,
   "metadata": {},
   "outputs": [],
   "source": [
    "X_train, X_test, y_train, y_test = train_test_split(X, y, test_size=0.24, random_state=9)"
   ]
  },
  {
   "cell_type": "code",
   "execution_count": 24,
   "metadata": {},
   "outputs": [
    {
     "data": {
      "text/plain": [
       "LinearRegression()"
      ]
     },
     "execution_count": 24,
     "metadata": {},
     "output_type": "execute_result"
    }
   ],
   "source": [
    "my_linreg = LinearRegression()\n",
    "\n",
    "my_linreg.fit(X_train, y_train)"
   ]
  },
  {
   "cell_type": "code",
   "execution_count": 25,
   "metadata": {},
   "outputs": [
    {
     "name": "stdout",
     "output_type": "stream",
     "text": [
      "520.0391034603759\n",
      "[-264.69553256  360.5601294   252.73642988   24.91707959  -17.23897686\n",
      "   11.65810466   -9.82859046]\n"
     ]
    }
   ],
   "source": [
    "print(my_linreg.intercept_)\n",
    "\n",
    "print(my_linreg.coef_)"
   ]
  },
  {
   "cell_type": "markdown",
   "metadata": {},
   "source": [
    "$$y = 520.039 + -264.695 \\times Income  + 360.560 \\times Limit  +  252.736 \\times Rating  +    24.917 \\times Cards  +   -17.238 \\times Age  +   11.658 \\times Education  +    -9.828 \\times Married$$\n",
    "\n",
    "### It seems that the Limit has the greatest effect on the balance with married status being the least"
   ]
  },
  {
   "cell_type": "code",
   "execution_count": 26,
   "metadata": {},
   "outputs": [
    {
     "name": "stdout",
     "output_type": "stream",
     "text": [
      "[ 316.89813114  677.5093907   489.03669272  -49.82989971  706.42913216\n",
      "  864.96954115  897.65752581  108.20297732 -213.73474279  834.94198677\n",
      "   11.05109139 -227.34447869  472.01450822    4.54554458 -228.17349827\n",
      "  956.21537845  896.91570524  821.97824267   18.37144232  857.31517013\n",
      " 1028.30326279  699.22168497 1176.9426756   666.28578465  643.94064891\n",
      "  690.63628696  589.35273903  -29.37237394  575.15444917  406.78468032\n",
      "  845.81453327  828.30862904   82.2376206   953.40592514 -184.74828227\n",
      "  525.84335889 1045.19205022  535.04104472  107.26753118 -172.8968111\n",
      "  497.84037664 1155.35533939  429.08674601  403.49872552  143.72087313\n",
      "  764.78737012  431.24114308 1304.79656588  475.00132057   95.75404622\n",
      " -215.69000296    5.62900657  313.88797405  859.9328932   792.27147016\n",
      " 1029.90210771 1500.40180297 1078.48617624  713.37981473 1072.97948262\n",
      "  -64.12187718  488.60063387   92.3601712   440.414465    277.13284667\n",
      " 1075.41508762  258.10181743  773.89657462  278.12447916  409.51029492\n",
      "  335.56674013  989.87781589  978.31940615 1042.6230052   915.82319179\n",
      "  150.95645254  516.7089988   733.47654088   74.84330655  556.47429962\n",
      " 1096.60831626  359.12494251  204.54562103  407.76115868  113.50656023\n",
      "  958.07237887  934.59051997    2.98452112 1627.80317193  636.31395153\n",
      "  688.17824441  711.80910955  293.66354104 -219.28997401  -91.76701391\n",
      " -149.31642723]\n"
     ]
    }
   ],
   "source": [
    "y_prediction = my_linreg.predict(X_test)\n",
    "\n",
    "print(y_prediction)"
   ]
  },
  {
   "cell_type": "code",
   "execution_count": 28,
   "metadata": {},
   "outputs": [],
   "source": [
    "mse = metrics.mean_squared_error(y_test, y_prediction)"
   ]
  },
  {
   "cell_type": "code",
   "execution_count": 29,
   "metadata": {},
   "outputs": [
    {
     "name": "stdout",
     "output_type": "stream",
     "text": [
      "143.24649739642265\n"
     ]
    }
   ],
   "source": [
    "rmse = np.sqrt(mse)\n",
    "\n",
    "print(rmse)"
   ]
  },
  {
   "cell_type": "markdown",
   "metadata": {},
   "source": [
    "## 10-fold Cross-Validation"
   ]
  },
  {
   "cell_type": "code",
   "execution_count": 37,
   "metadata": {},
   "outputs": [
    {
     "name": "stdout",
     "output_type": "stream",
     "text": [
      "(400, 7)\n",
      "<bound method NDFrame.head of       Income  Limit  Rating  Cards  Age  Education  Married\n",
      "0     14.891   3606     283      2   34         11        1\n",
      "1    106.025   6645     483      3   82         15        1\n",
      "2    104.593   7075     514      4   71         11        0\n",
      "3    148.924   9504     681      3   36         11        0\n",
      "4     55.882   4897     357      2   68         16        1\n",
      "..       ...    ...     ...    ...  ...        ...      ...\n",
      "395   12.096   4100     307      3   32         13        1\n",
      "396   13.364   3838     296      5   65         17        0\n",
      "397   57.872   4171     321      5   67         12        1\n",
      "398   37.728   2525     192      1   44         13        1\n",
      "399   18.701   5524     415      5   64          7        0\n",
      "\n",
      "[400 rows x 7 columns]>\n",
      "(400,)\n"
     ]
    }
   ],
   "source": [
    "feature_cols = ['Income','Limit','Rating','Cards','Age','Education','Married']\n",
    "\n",
    "X = df[feature_cols] \n",
    "print(X.shape)\n",
    "print(X.head)\n",
    "\n",
    "y = df['Balance']\n",
    "print(y.shape)\n",
    "\n",
    "X = preprocessing.scale(X)"
   ]
  },
  {
   "cell_type": "code",
   "execution_count": 41,
   "metadata": {},
   "outputs": [
    {
     "name": "stdout",
     "output_type": "stream",
     "text": [
      "[-23646.90415343 -32003.04401232 -35462.64435619 -37327.60719635\n",
      " -14341.32205939 -33628.37104224 -31631.99317834 -12491.00334951\n",
      " -20749.61212175 -23204.94743459]\n"
     ]
    }
   ],
   "source": [
    "my_logreg = LogisticRegression(max_iter=400)\n",
    "\n",
    "mse_list = cross_val_score(my_linreg, X, y, cv=10, scoring='neg_mean_squared_error')\n",
    "\n",
    "print(mse_list)"
   ]
  },
  {
   "cell_type": "code",
   "execution_count": 43,
   "metadata": {},
   "outputs": [
    {
     "name": "stdout",
     "output_type": "stream",
     "text": [
      "[153.7754992  178.89394627 188.31527914 193.20353826 119.75525901\n",
      " 183.38039983 177.85385343 111.76315739 144.04725656 152.331702  ]\n",
      "160.33198910744133\n"
     ]
    }
   ],
   "source": [
    "mse_list_positive = -mse_list\n",
    "\n",
    "rmse_list = np.sqrt(mse_list_positive)\n",
    "print(rmse_list)\n",
    "\n",
    "print(rmse_list.mean())"
   ]
  }
 ],
 "metadata": {
  "kernelspec": {
   "display_name": "Python 3.9.12 ('base')",
   "language": "python",
   "name": "python3"
  },
  "language_info": {
   "codemirror_mode": {
    "name": "ipython",
    "version": 3
   },
   "file_extension": ".py",
   "mimetype": "text/x-python",
   "name": "python",
   "nbconvert_exporter": "python",
   "pygments_lexer": "ipython3",
   "version": "3.9.12"
  },
  "orig_nbformat": 4,
  "vscode": {
   "interpreter": {
    "hash": "9059f11ac99c194f89cc17041102fce3d3d7309992fe071b2d99a87d386ba993"
   }
  }
 },
 "nbformat": 4,
 "nbformat_minor": 2
}
