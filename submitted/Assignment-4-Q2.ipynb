{
 "cells": [
  {
   "cell_type": "code",
   "execution_count": 1,
   "metadata": {},
   "outputs": [],
   "source": [
    "import numpy as np\n",
    "import pandas as pd\n",
    "\n",
    "from sklearn.model_selection import train_test_split\n",
    "from sklearn.linear_model import LogisticRegression\n",
    "from sklearn.metrics import accuracy_score\n",
    "from sklearn import metrics\n",
    "import matplotlib.pyplot as plt"
   ]
  },
  {
   "cell_type": "markdown",
   "metadata": {},
   "source": [
    "# Question2:  predict the probability of Heart Disease "
   ]
  },
  {
   "cell_type": "code",
   "execution_count": 2,
   "metadata": {},
   "outputs": [
    {
     "data": {
      "text/html": [
       "<div>\n",
       "<style scoped>\n",
       "    .dataframe tbody tr th:only-of-type {\n",
       "        vertical-align: middle;\n",
       "    }\n",
       "\n",
       "    .dataframe tbody tr th {\n",
       "        vertical-align: top;\n",
       "    }\n",
       "\n",
       "    .dataframe thead th {\n",
       "        text-align: right;\n",
       "    }\n",
       "</style>\n",
       "<table border=\"1\" class=\"dataframe\">\n",
       "  <thead>\n",
       "    <tr style=\"text-align: right;\">\n",
       "      <th></th>\n",
       "      <th>Age</th>\n",
       "      <th>RestBP</th>\n",
       "      <th>Chol</th>\n",
       "      <th>RestECG</th>\n",
       "      <th>MaxHR</th>\n",
       "      <th>Oldpeak</th>\n",
       "      <th>AHD</th>\n",
       "    </tr>\n",
       "  </thead>\n",
       "  <tbody>\n",
       "    <tr>\n",
       "      <th>0</th>\n",
       "      <td>63</td>\n",
       "      <td>145</td>\n",
       "      <td>233</td>\n",
       "      <td>2</td>\n",
       "      <td>150</td>\n",
       "      <td>2.3</td>\n",
       "      <td>No</td>\n",
       "    </tr>\n",
       "    <tr>\n",
       "      <th>1</th>\n",
       "      <td>67</td>\n",
       "      <td>160</td>\n",
       "      <td>286</td>\n",
       "      <td>2</td>\n",
       "      <td>108</td>\n",
       "      <td>1.5</td>\n",
       "      <td>Yes</td>\n",
       "    </tr>\n",
       "    <tr>\n",
       "      <th>2</th>\n",
       "      <td>67</td>\n",
       "      <td>120</td>\n",
       "      <td>229</td>\n",
       "      <td>2</td>\n",
       "      <td>129</td>\n",
       "      <td>2.6</td>\n",
       "      <td>Yes</td>\n",
       "    </tr>\n",
       "    <tr>\n",
       "      <th>3</th>\n",
       "      <td>37</td>\n",
       "      <td>130</td>\n",
       "      <td>250</td>\n",
       "      <td>0</td>\n",
       "      <td>187</td>\n",
       "      <td>3.5</td>\n",
       "      <td>No</td>\n",
       "    </tr>\n",
       "    <tr>\n",
       "      <th>4</th>\n",
       "      <td>41</td>\n",
       "      <td>130</td>\n",
       "      <td>204</td>\n",
       "      <td>2</td>\n",
       "      <td>172</td>\n",
       "      <td>1.4</td>\n",
       "      <td>No</td>\n",
       "    </tr>\n",
       "    <tr>\n",
       "      <th>5</th>\n",
       "      <td>56</td>\n",
       "      <td>120</td>\n",
       "      <td>236</td>\n",
       "      <td>0</td>\n",
       "      <td>178</td>\n",
       "      <td>0.8</td>\n",
       "      <td>No</td>\n",
       "    </tr>\n",
       "    <tr>\n",
       "      <th>6</th>\n",
       "      <td>62</td>\n",
       "      <td>140</td>\n",
       "      <td>268</td>\n",
       "      <td>2</td>\n",
       "      <td>160</td>\n",
       "      <td>3.6</td>\n",
       "      <td>Yes</td>\n",
       "    </tr>\n",
       "    <tr>\n",
       "      <th>7</th>\n",
       "      <td>57</td>\n",
       "      <td>120</td>\n",
       "      <td>354</td>\n",
       "      <td>0</td>\n",
       "      <td>163</td>\n",
       "      <td>0.6</td>\n",
       "      <td>No</td>\n",
       "    </tr>\n",
       "    <tr>\n",
       "      <th>8</th>\n",
       "      <td>63</td>\n",
       "      <td>130</td>\n",
       "      <td>254</td>\n",
       "      <td>2</td>\n",
       "      <td>147</td>\n",
       "      <td>1.4</td>\n",
       "      <td>Yes</td>\n",
       "    </tr>\n",
       "    <tr>\n",
       "      <th>9</th>\n",
       "      <td>53</td>\n",
       "      <td>140</td>\n",
       "      <td>203</td>\n",
       "      <td>2</td>\n",
       "      <td>155</td>\n",
       "      <td>3.1</td>\n",
       "      <td>Yes</td>\n",
       "    </tr>\n",
       "  </tbody>\n",
       "</table>\n",
       "</div>"
      ],
      "text/plain": [
       "   Age  RestBP  Chol  RestECG  MaxHR  Oldpeak  AHD\n",
       "0   63     145   233        2    150      2.3   No\n",
       "1   67     160   286        2    108      1.5  Yes\n",
       "2   67     120   229        2    129      2.6  Yes\n",
       "3   37     130   250        0    187      3.5   No\n",
       "4   41     130   204        2    172      1.4   No\n",
       "5   56     120   236        0    178      0.8   No\n",
       "6   62     140   268        2    160      3.6  Yes\n",
       "7   57     120   354        0    163      0.6   No\n",
       "8   63     130   254        2    147      1.4  Yes\n",
       "9   53     140   203        2    155      3.1  Yes"
      ]
     },
     "execution_count": 2,
     "metadata": {},
     "output_type": "execute_result"
    }
   ],
   "source": [
    "df  = pd.read_csv(\"https://github.com/mpourhoma/CS4661/raw/master/Heart_short.csv\")\n",
    "df[0:10]"
   ]
  },
  {
   "cell_type": "code",
   "execution_count": 3,
   "metadata": {},
   "outputs": [],
   "source": [
    "feature_cols = ['Age','RestBP','Chol','RestECG','MaxHR','Oldpeak']\n",
    "\n",
    "X = df[feature_cols]\n",
    "\n",
    "y = df['AHD']"
   ]
  },
  {
   "cell_type": "code",
   "execution_count": 4,
   "metadata": {},
   "outputs": [],
   "source": [
    "X_train, X_test, y_train, y_test = train_test_split(X, y, test_size=0.25, random_state=3)"
   ]
  },
  {
   "cell_type": "code",
   "execution_count": 5,
   "metadata": {},
   "outputs": [],
   "source": [
    "my_logreg = LogisticRegression()\n"
   ]
  },
  {
   "cell_type": "code",
   "execution_count": 6,
   "metadata": {},
   "outputs": [
    {
     "data": {
      "text/plain": [
       "LogisticRegression()"
      ]
     },
     "execution_count": 6,
     "metadata": {},
     "output_type": "execute_result"
    }
   ],
   "source": [
    "my_logreg.fit(X_train, y_train)"
   ]
  },
  {
   "cell_type": "code",
   "execution_count": 7,
   "metadata": {},
   "outputs": [
    {
     "name": "stdout",
     "output_type": "stream",
     "text": [
      "['Yes' 'No' 'Yes' 'Yes' 'No' 'No' 'No' 'No' 'Yes' 'No' 'Yes' 'No' 'Yes'\n",
      " 'Yes' 'No' 'No' 'Yes' 'No' 'Yes' 'Yes' 'No' 'No' 'Yes' 'No' 'Yes' 'No'\n",
      " 'No' 'Yes' 'No' 'No' 'Yes' 'Yes' 'Yes' 'No' 'No' 'Yes' 'Yes' 'No' 'Yes'\n",
      " 'No' 'No' 'Yes' 'No' 'No' 'Yes' 'Yes' 'No' 'No' 'Yes' 'No' 'No' 'Yes'\n",
      " 'No' 'Yes' 'No' 'No' 'No' 'No' 'No' 'No' 'Yes' 'No' 'No' 'No' 'No' 'No'\n",
      " 'No' 'No' 'No' 'No' 'No']\n"
     ]
    }
   ],
   "source": [
    "y_predict_lr = my_logreg.predict(X_test)\n",
    "print(y_predict_lr)"
   ]
  },
  {
   "cell_type": "code",
   "execution_count": 8,
   "metadata": {},
   "outputs": [
    {
     "name": "stdout",
     "output_type": "stream",
     "text": [
      "0.7183098591549296\n"
     ]
    }
   ],
   "source": [
    "score_lr = accuracy_score(y_test, y_predict_lr)\n",
    "\n",
    "print(score_lr)"
   ]
  },
  {
   "cell_type": "code",
   "execution_count": 9,
   "metadata": {},
   "outputs": [
    {
     "name": "stdout",
     "output_type": "stream",
     "text": [
      "[[0.44554355 0.55445645]\n",
      " [0.57553253 0.42446747]\n",
      " [0.42859898 0.57140102]\n",
      " [0.40443735 0.59556265]\n",
      " [0.85994725 0.14005275]\n",
      " [0.77042239 0.22957761]\n",
      " [0.7363589  0.2636411 ]\n",
      " [0.88730801 0.11269199]\n",
      " [0.34746689 0.65253311]\n",
      " [0.68753296 0.31246704]\n",
      " [0.10853452 0.89146548]\n",
      " [0.92042527 0.07957473]\n",
      " [0.32305118 0.67694882]\n",
      " [0.46512838 0.53487162]\n",
      " [0.68364107 0.31635893]\n",
      " [0.86489899 0.13510101]\n",
      " [0.0965789  0.9034211 ]\n",
      " [0.6468058  0.3531942 ]\n",
      " [0.12662886 0.87337114]\n",
      " [0.36732841 0.63267159]\n",
      " [0.85060173 0.14939827]\n",
      " [0.86217141 0.13782859]\n",
      " [0.22590036 0.77409964]\n",
      " [0.9423471  0.0576529 ]\n",
      " [0.11594258 0.88405742]\n",
      " [0.57602485 0.42397515]\n",
      " [0.73857118 0.26142882]\n",
      " [0.48110901 0.51889099]\n",
      " [0.69715052 0.30284948]\n",
      " [0.76962711 0.23037289]\n",
      " [0.32127237 0.67872763]\n",
      " [0.13517445 0.86482555]\n",
      " [0.14946568 0.85053432]\n",
      " [0.8825741  0.1174259 ]\n",
      " [0.81364989 0.18635011]\n",
      " [0.01116034 0.98883966]\n",
      " [0.07325535 0.92674465]\n",
      " [0.74692105 0.25307895]\n",
      " [0.21243715 0.78756285]\n",
      " [0.50392695 0.49607305]\n",
      " [0.73579186 0.26420814]\n",
      " [0.34100744 0.65899256]\n",
      " [0.63222871 0.36777129]\n",
      " [0.8218421  0.1781579 ]\n",
      " [0.02531605 0.97468395]\n",
      " [0.39650377 0.60349623]\n",
      " [0.88675249 0.11324751]\n",
      " [0.82944631 0.17055369]\n",
      " [0.335256   0.664744  ]\n",
      " [0.65999413 0.34000587]\n",
      " [0.64388221 0.35611779]\n",
      " [0.1970905  0.8029095 ]\n",
      " [0.96910693 0.03089307]\n",
      " [0.17967809 0.82032191]\n",
      " [0.90179028 0.09820972]\n",
      " [0.83118617 0.16881383]\n",
      " [0.88551797 0.11448203]\n",
      " [0.60839684 0.39160316]\n",
      " [0.86067627 0.13932373]\n",
      " [0.77084497 0.22915503]\n",
      " [0.26920609 0.73079391]\n",
      " [0.82793907 0.17206093]\n",
      " [0.76790381 0.23209619]\n",
      " [0.61852327 0.38147673]\n",
      " [0.78675246 0.21324754]\n",
      " [0.88312693 0.11687307]\n",
      " [0.66468952 0.33531048]\n",
      " [0.93111843 0.06888157]\n",
      " [0.9239022  0.0760978 ]\n",
      " [0.78793486 0.21206514]\n",
      " [0.92047555 0.07952445]]\n"
     ]
    }
   ],
   "source": [
    "y_predict_prob_lr = my_logreg.predict_proba(X_test)\n",
    "print(y_predict_prob_lr)"
   ]
  },
  {
   "cell_type": "code",
   "execution_count": 10,
   "metadata": {},
   "outputs": [
    {
     "name": "stdout",
     "output_type": "stream",
     "text": [
      "[0.         0.         0.02439024 0.02439024 0.07317073 0.07317073\n",
      " 0.09756098 0.09756098 0.12195122 0.12195122 0.17073171 0.17073171\n",
      " 0.2195122  0.2195122  0.24390244 0.24390244 0.29268293 0.29268293\n",
      " 0.41463415 0.41463415 0.48780488 0.48780488 0.53658537 0.53658537\n",
      " 0.68292683 0.68292683 0.73170732 0.73170732 0.82926829 0.82926829\n",
      " 1.        ]\n",
      "[0.         0.03333333 0.03333333 0.36666667 0.36666667 0.4\n",
      " 0.4        0.43333333 0.43333333 0.56666667 0.56666667 0.6\n",
      " 0.6        0.63333333 0.63333333 0.7        0.7        0.73333333\n",
      " 0.73333333 0.8        0.8        0.83333333 0.83333333 0.86666667\n",
      " 0.86666667 0.93333333 0.93333333 0.96666667 0.96666667 1.\n",
      " 1.        ]\n"
     ]
    }
   ],
   "source": [
    "fpr, tpr, thresholds = metrics.roc_curve(y_test, y_predict_prob_lr[:,1], pos_label='Yes')\n",
    "\n",
    "print(fpr)\n",
    "print(tpr)"
   ]
  },
  {
   "cell_type": "code",
   "execution_count": 11,
   "metadata": {},
   "outputs": [
    {
     "name": "stdout",
     "output_type": "stream",
     "text": [
      "0.7715447154471544\n"
     ]
    }
   ],
   "source": [
    "AUC = metrics.auc(fpr, tpr)\n",
    "print(AUC)"
   ]
  },
  {
   "cell_type": "code",
   "execution_count": 12,
   "metadata": {},
   "outputs": [
    {
     "data": {
      "image/png": "[encoded data removed]",
      "text/plain": [
       "<Figure size 432x288 with 1 Axes>"
      ]
     },
     "metadata": {
      "needs_background": "light"
     },
     "output_type": "display_data"
    }
   ],
   "source": [
    "%matplotlib inline\n",
    "\n",
    "plt.figure()\n",
    "\n",
    "\n",
    "plt.plot(fpr, tpr, color='red', lw=2, label='ROC Curve (area = %0.2f)' % AUC)\n",
    "\n",
    "plt.plot([0, 1], [0, 1], color='blue', lw=1, linestyle='--')\n",
    "\n",
    "plt.xlabel('False Positive Rate')\n",
    "plt.ylabel('True Positive Rate')\n",
    "plt.title('Receiver operating characteristic')\n",
    "plt.legend(loc=\"lower right\")\n",
    "\n",
    "plt.show()"
   ]
  }
 ],
 "metadata": {
  "kernelspec": {
   "display_name": "Python 3.9.12 ('base')",
   "language": "python",
   "name": "python3"
  },
  "language_info": {
   "codemirror_mode": {
    "name": "ipython",
    "version": 3
   },
   "file_extension": ".py",
   "mimetype": "text/x-python",
   "name": "python",
   "nbconvert_exporter": "python",
   "pygments_lexer": "ipython3",
   "version": "3.9.12"
  },
  "orig_nbformat": 4,
  "vscode": {
   "interpreter": {
    "hash": "9059f11ac99c194f89cc17041102fce3d3d7309992fe071b2d99a87d386ba993"
   }
  }
 },
 "nbformat": 4,
 "nbformat_minor": 2
}
